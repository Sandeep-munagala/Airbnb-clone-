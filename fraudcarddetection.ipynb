{
  "nbformat": 4,
  "nbformat_minor": 0,
  "metadata": {
    "colab": {
      "provenance": [],
      "authorship_tag": "ABX9TyMH5/BYAuesFTs7GGebqw7Q",
      "include_colab_link": true
    },
    "kernelspec": {
      "name": "python3",
      "display_name": "Python 3"
    },
    "language_info": {
      "name": "python"
    }
  },
  "cells": [
    {
      "cell_type": "markdown",
      "metadata": {
        "id": "view-in-github",
        "colab_type": "text"
      },
      "source": [
        "<a href=\"https://colab.research.google.com/github/Sandeep-munagala/assignment/blob/main/fraudcarddetection.ipynb\" target=\"_parent\"><img src=\"https://colab.research.google.com/assets/colab-badge.svg\" alt=\"Open In Colab\"/></a>"
      ]
    },
    {
      "cell_type": "code",
      "source": [
        "import pandas as pd"
      ],
      "metadata": {
        "id": "kG5ER_-ALpmu"
      },
      "execution_count": 103,
      "outputs": []
    },
    {
      "cell_type": "code",
      "source": [
        "df = pd.read_csv('creditcard.csv')\n",
        "df.fillna(0)\n",
        "df.isnull().sum()"
      ],
      "metadata": {
        "colab": {
          "base_uri": "https://localhost:8080/"
        },
        "id": "yHXEG6qVTFvB",
        "outputId": "22bc1dd4-2be9-4fb9-b866-3aa169f61be2"
      },
      "execution_count": 104,
      "outputs": [
        {
          "output_type": "execute_result",
          "data": {
            "text/plain": [
              "Time      0\n",
              "V1        0\n",
              "V2        0\n",
              "V3        0\n",
              "V4        0\n",
              "V5        0\n",
              "V6        0\n",
              "V7        0\n",
              "V8        0\n",
              "V9        0\n",
              "V10       0\n",
              "V11       0\n",
              "V12       0\n",
              "V13       0\n",
              "V14       0\n",
              "V15       0\n",
              "V16       0\n",
              "V17       0\n",
              "V18       0\n",
              "V19       0\n",
              "V20       0\n",
              "V21       0\n",
              "V22       0\n",
              "V23       0\n",
              "V24       0\n",
              "V25       0\n",
              "V26       0\n",
              "V27       0\n",
              "V28       0\n",
              "Amount    0\n",
              "Class     0\n",
              "dtype: int64"
            ]
          },
          "metadata": {},
          "execution_count": 104
        }
      ]
    },
    {
      "cell_type": "code",
      "source": [
        "df['Class'].value_counts(normalize=True)*100"
      ],
      "metadata": {
        "colab": {
          "base_uri": "https://localhost:8080/"
        },
        "id": "vmLJtI54TJdN",
        "outputId": "5887f8c1-38ec-43a8-94d3-fef86dc3c082"
      },
      "execution_count": 105,
      "outputs": [
        {
          "output_type": "execute_result",
          "data": {
            "text/plain": [
              "0    99.827251\n",
              "1     0.172749\n",
              "Name: Class, dtype: float64"
            ]
          },
          "metadata": {},
          "execution_count": 105
        }
      ]
    },
    {
      "cell_type": "code",
      "source": [
        "X = df.iloc[:,1:30]\n",
        "y = df.iloc[:,-1]"
      ],
      "metadata": {
        "id": "Gs6SI4jUTOFl"
      },
      "execution_count": 106,
      "outputs": []
    },
    {
      "cell_type": "code",
      "source": [
        "xtrain, xtest, ytrain, ytest = train_test_split(X, y, test_size=0.30, random_state=42)\n"
      ],
      "metadata": {
        "id": "2iaHX8q5TSZ0"
      },
      "execution_count": 107,
      "outputs": []
    },
    {
      "cell_type": "code",
      "source": [
        "print(xtrain.shape, xtest.shape, ytrain.shape, ytest.shape)"
      ],
      "metadata": {
        "colab": {
          "base_uri": "https://localhost:8080/"
        },
        "id": "Wu4x9PATTUnI",
        "outputId": "db952101-1810-4150-d329-7d0a08fed4be"
      },
      "execution_count": 108,
      "outputs": [
        {
          "output_type": "stream",
          "name": "stdout",
          "text": [
            "(199364, 29) (85443, 29) (199364,) (85443,)\n"
          ]
        }
      ]
    },
    {
      "cell_type": "code",
      "source": [
        "import tensorflow as tf\n",
        "from tensorflow.keras.layers import Dense\n",
        "from tensorflow.keras.models import Sequential"
      ],
      "metadata": {
        "id": "obVIWyhpTX0A"
      },
      "execution_count": 109,
      "outputs": []
    },
    {
      "cell_type": "code",
      "source": [
        "n_inputs = len(X.columns)\n",
        "sq = Sequential()\n",
        "\n",
        "\n",
        "sq.add(Dense(50, input_dim = n_inputs, activation = 'relu', kernel_initializer= 'he_uniform'))\n",
        "\n",
        "\n",
        "sq.add(Dense(1, activation = 'sigmoid'))\n",
        "\n",
        "sq.compile(loss='binary_crossentropy', optimizer = 'adam',metrics = [\"accuracy\"])\n",
        "sq.fit(xtrain,ytrain, epochs=10)"
      ],
      "metadata": {
        "colab": {
          "base_uri": "https://localhost:8080/"
        },
        "id": "c8TDqXgbTeJZ",
        "outputId": "99cc983d-6924-466e-83bb-da6b99c4b27a"
      },
      "execution_count": 110,
      "outputs": [
        {
          "output_type": "stream",
          "name": "stdout",
          "text": [
            "Epoch 1/10\n",
            "6231/6231 [==============================] - 8s 1ms/step - loss: 0.0219 - accuracy: 0.9989\n",
            "Epoch 2/10\n",
            "6231/6231 [==============================] - 7s 1ms/step - loss: 0.0120 - accuracy: 0.9991\n",
            "Epoch 3/10\n",
            "6231/6231 [==============================] - 7s 1ms/step - loss: 0.0087 - accuracy: 0.9992\n",
            "Epoch 4/10\n",
            "6231/6231 [==============================] - 7s 1ms/step - loss: 0.0104 - accuracy: 0.9992\n",
            "Epoch 5/10\n",
            "6231/6231 [==============================] - 8s 1ms/step - loss: 0.0080 - accuracy: 0.9993\n",
            "Epoch 6/10\n",
            "6231/6231 [==============================] - 7s 1ms/step - loss: 0.0065 - accuracy: 0.9993\n",
            "Epoch 7/10\n",
            "6231/6231 [==============================] - 7s 1ms/step - loss: 0.0072 - accuracy: 0.9993\n",
            "Epoch 8/10\n",
            "6231/6231 [==============================] - 7s 1ms/step - loss: 0.0050 - accuracy: 0.9993\n",
            "Epoch 9/10\n",
            "6231/6231 [==============================] - 7s 1ms/step - loss: 0.0078 - accuracy: 0.9994\n",
            "Epoch 10/10\n",
            "6231/6231 [==============================] - 8s 1ms/step - loss: 0.0065 - accuracy: 0.9994\n"
          ]
        },
        {
          "output_type": "execute_result",
          "data": {
            "text/plain": [
              "<keras.callbacks.History at 0x7fe0e799e7a0>"
            ]
          },
          "metadata": {},
          "execution_count": 110
        }
      ]
    },
    {
      "cell_type": "code",
      "source": [
        "predictions = sq.predict(xtest)"
      ],
      "metadata": {
        "colab": {
          "base_uri": "https://localhost:8080/"
        },
        "id": "YomNytMeVkDI",
        "outputId": "03093caf-e595-49c3-d0cb-d9a57b422c94"
      },
      "execution_count": null,
      "outputs": [
        {
          "output_type": "stream",
          "name": "stdout",
          "text": [
            "893/893 [==============================] - 1s 921us/step\n"
          ]
        }
      ]
    },
    {
      "cell_type": "code",
      "source": [
        "np.argmax(predictions[0])"
      ],
      "metadata": {
        "colab": {
          "base_uri": "https://localhost:8080/"
        },
        "id": "sTY0Ih2qWoCO",
        "outputId": "c4f9d061-75af-41f3-c908-d7dac92a9979"
      },
      "execution_count": null,
      "outputs": [
        {
          "output_type": "execute_result",
          "data": {
            "text/plain": [
              "0"
            ]
          },
          "metadata": {},
          "execution_count": 91
        }
      ]
    },
    {
      "cell_type": "code",
      "source": [
        "ytest = ytest.values"
      ],
      "metadata": {
        "id": "6EoQE5LtWr0K"
      },
      "execution_count": null,
      "outputs": []
    },
    {
      "cell_type": "code",
      "source": [
        "ytest[0]"
      ],
      "metadata": {
        "colab": {
          "base_uri": "https://localhost:8080/"
        },
        "id": "plJdupHoWzjd",
        "outputId": "e130cd52-6829-44b5-a570-14f9fdae5154"
      },
      "execution_count": null,
      "outputs": [
        {
          "output_type": "execute_result",
          "data": {
            "text/plain": [
              "0.0"
            ]
          },
          "metadata": {},
          "execution_count": 96
        }
      ]
    },
    {
      "cell_type": "code",
      "source": [
        "k = int(input(\"enter the number less than 28549!we have small dataset :) :\"))\n",
        "if np.argmax(predictions[k]) == ytest[k]:\n",
        "  print(\"\\n\\n**********\\n\\n\")\n",
        "  print(\"we did it :)\")"
      ],
      "metadata": {
        "colab": {
          "base_uri": "https://localhost:8080/"
        },
        "id": "TZmDmegHXZYG",
        "outputId": "66128864-e927-4334-ae1a-b04f060b9e3c"
      },
      "execution_count": null,
      "outputs": [
        {
          "output_type": "stream",
          "name": "stdout",
          "text": [
            "enter the number less than 28549!we have small dataset :) :8374\n",
            "\n",
            "\n",
            "**********\n",
            "\n",
            "\n",
            "we did it :)\n"
          ]
        }
      ]
    }
  ]
}